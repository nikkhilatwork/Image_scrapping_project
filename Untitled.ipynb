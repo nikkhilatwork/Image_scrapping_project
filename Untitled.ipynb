{
 "cells": [
  {
   "cell_type": "code",
   "execution_count": 1,
   "id": "478ac271",
   "metadata": {},
   "outputs": [],
   "source": [
    "import requests\n",
    "from bs4 import BeautifulSoup\n",
    "from urllib.request import urlopen as uReq\n",
    "import logging\n",
    "#import pymongo\n",
    "import os"
   ]
  },
  {
   "cell_type": "code",
   "execution_count": 2,
   "id": "f1816c8a",
   "metadata": {},
   "outputs": [],
   "source": [
    "save_dir = \"images/\"\n",
    "if not os.path.exists(save_dir):\n",
    "    os.makedirs(save_dir)"
   ]
  },
  {
   "cell_type": "code",
   "execution_count": 3,
   "id": "1604f5f2",
   "metadata": {},
   "outputs": [],
   "source": [
    "headers = {\"User-Agent\": \"Mozilla/5.0 (Windows NT 10.0; Win64; x64) AppleWebKit/537.36 (KHTML, like Gecko) Chrome/58.0.3029.110 Safari/537.36\"}"
   ]
  },
  {
   "cell_type": "code",
   "execution_count": 4,
   "id": "9982be24",
   "metadata": {},
   "outputs": [],
   "source": [
    "query = \"swati dhote\"\n",
    "response = requests.get(f\"https://www.google.com/search?q={query}&sxsrf=AJOqlzUuff1RXi2mm8I_OqOwT9VjfIDL7w:1676996143273&source=lnms&tbm=isch&sa=X&ved=2ahUKEwiq-qK7gaf9AhXUgVYBHYReAfYQ_AUoA3oECAEQBQ&biw=1920&bih=937&dpr=1#imgrc=1th7VhSesfMJ4M\")\n"
   ]
  },
  {
   "cell_type": "code",
   "execution_count": 5,
   "id": "cec605fc",
   "metadata": {},
   "outputs": [],
   "source": [
    "soup = BeautifulSoup(response.content ,'html.parser')"
   ]
  },
  {
   "cell_type": "code",
   "execution_count": 6,
   "id": "6d48bf22",
   "metadata": {},
   "outputs": [],
   "source": [
    "images_tags = soup.find_all(\"img\")"
   ]
  },
  {
   "cell_type": "code",
   "execution_count": 7,
   "id": "c3e4b9f5",
   "metadata": {},
   "outputs": [
    {
     "data": {
      "text/plain": [
       "21"
      ]
     },
     "execution_count": 7,
     "metadata": {},
     "output_type": "execute_result"
    }
   ],
   "source": [
    "len(images_tags)"
   ]
  },
  {
   "cell_type": "code",
   "execution_count": 10,
   "id": "52922457",
   "metadata": {},
   "outputs": [
    {
     "data": {
      "text/plain": [
       "[<img alt=\"\" class=\"yWs4tf\" src=\"https://encrypted-tbn0.gstatic.com/images?q=tbn:ANd9GcSSg5gljCVyGxGULawWwbKDmEL0pLjGHXqVGQaKIFWyrYJMtR_Hq1UYpnRwIA&amp;s\"/>,\n",
       " <img alt=\"\" class=\"yWs4tf\" src=\"https://encrypted-tbn0.gstatic.com/images?q=tbn:ANd9GcTcGTUCPZY-2k9j30iT3MFGsu4XcCJ4lbKRngM0wh0x9JqHSDf0mWa2E57i0A&amp;s\"/>,\n",
       " <img alt=\"\" class=\"yWs4tf\" src=\"https://encrypted-tbn0.gstatic.com/images?q=tbn:ANd9GcRlLrmB7MoG_BoM84QJqbbihyhp0lJ4uS2nBAYwByAsnBFfJXCcmm6B3zAUT08&amp;s\"/>,\n",
       " <img alt=\"\" class=\"yWs4tf\" src=\"https://encrypted-tbn0.gstatic.com/images?q=tbn:ANd9GcQcXqE85nayN9PzCuwAHqZKzS5WhioDolPW2s6s13vv740BGr8xNBU8TZyMGQ&amp;s\"/>,\n",
       " <img alt=\"\" class=\"yWs4tf\" src=\"https://encrypted-tbn0.gstatic.com/images?q=tbn:ANd9GcRZrMkQijXZXYg6_SLcCowxVATEOAEBCIVkTxpyVB6dHfS26VlvPJVNrdsGiPM&amp;s\"/>,\n",
       " <img alt=\"\" class=\"yWs4tf\" src=\"https://encrypted-tbn0.gstatic.com/images?q=tbn:ANd9GcSKchKhO5f9fj9dGIaOsxO3zYSO8Bj3Bd3E1tQG3vN9GrLuEek_1akw056jG58&amp;s\"/>,\n",
       " <img alt=\"\" class=\"yWs4tf\" src=\"https://encrypted-tbn0.gstatic.com/images?q=tbn:ANd9GcQnKuHNvnQH5DqUU4sxQy3PsXSTZgjg8g2Q-Lf2PtD_5rF6eDUu9YAbWNlw9NY&amp;s\"/>,\n",
       " <img alt=\"\" class=\"yWs4tf\" src=\"https://encrypted-tbn0.gstatic.com/images?q=tbn:ANd9GcT98E3A-3bpmFLRSsUpkVch04Yrkd0jOphsfsfXk3L5EVpvazfaJP-GBmJHX8I&amp;s\"/>,\n",
       " <img alt=\"\" class=\"yWs4tf\" src=\"https://encrypted-tbn0.gstatic.com/images?q=tbn:ANd9GcQfeyWmv_dt7QSSR8VJWKYTbUBlE-oj6tBccZkjIiJINq6slsH8rbVROv3cMA&amp;s\"/>,\n",
       " <img alt=\"\" class=\"yWs4tf\" src=\"https://encrypted-tbn0.gstatic.com/images?q=tbn:ANd9GcTCDRjT8AT521cWJyyLbEPK8QmeyffnVhnb736BbxmxaJD8_NMLnSsWw9DyIm4&amp;s\"/>,\n",
       " <img alt=\"\" class=\"yWs4tf\" src=\"https://encrypted-tbn0.gstatic.com/images?q=tbn:ANd9GcS0_mUx94FapMkJG_iz6o22JS1c6lrCCND-0H4QdJbgO_LW8WH5LWbiJpVMTCQ&amp;s\"/>,\n",
       " <img alt=\"\" class=\"yWs4tf\" src=\"https://encrypted-tbn0.gstatic.com/images?q=tbn:ANd9GcQEyLwDAYc5USPilcV_vcVGyzE32rpl0KgKhpEYGMfMQ4pii3LbDx1YWJuigN4&amp;s\"/>,\n",
       " <img alt=\"\" class=\"yWs4tf\" src=\"https://encrypted-tbn0.gstatic.com/images?q=tbn:ANd9GcSCEZLa2s7bMUmqQFu_BCmskWrkWZrqYy9QXfNRdpIYPMp8hqn0O8CBDLiXQSw&amp;s\"/>,\n",
       " <img alt=\"\" class=\"yWs4tf\" src=\"https://encrypted-tbn0.gstatic.com/images?q=tbn:ANd9GcTxcrMI-JvkzRYJdbouHFxaP4htLmJZS0hh0-Ddg4sHO6mNrmhbOt5HziuSFd0&amp;s\"/>,\n",
       " <img alt=\"\" class=\"yWs4tf\" src=\"https://encrypted-tbn0.gstatic.com/images?q=tbn:ANd9GcRet35rUXaI5LIET22u7Vh0YKrzPIFgM8b5lIspZTDPfjbOQDAJlz9FAefgdzE&amp;s\"/>,\n",
       " <img alt=\"\" class=\"yWs4tf\" src=\"https://encrypted-tbn0.gstatic.com/images?q=tbn:ANd9GcQrmCoSucjP-In1dPFfmZU49xS18NOdsNFCb__58qfIwBmjiV4XppnrAEi7Huw&amp;s\"/>,\n",
       " <img alt=\"\" class=\"yWs4tf\" src=\"https://encrypted-tbn0.gstatic.com/images?q=tbn:ANd9GcQX-2RT2qjFeCUfMir8cGCK1bA8ZnNYv3Ail0iAGBnnQlwqrp0V0vZGN2K_0A&amp;s\"/>,\n",
       " <img alt=\"\" class=\"yWs4tf\" src=\"https://encrypted-tbn0.gstatic.com/images?q=tbn:ANd9GcRvHLi08pG-voV0bHNIp5p0YkyCOLGe18uuAQBVG5NVlfNcigjRTUBpnEurMQ&amp;s\"/>,\n",
       " <img alt=\"\" class=\"yWs4tf\" src=\"https://encrypted-tbn0.gstatic.com/images?q=tbn:ANd9GcRGD38sVbqJyaHrf5tCWTjNV7qKnjbbKCNMRbYrZVj-_Lm08CceUbYM5_OF5-8&amp;s\"/>,\n",
       " <img alt=\"\" class=\"yWs4tf\" src=\"https://encrypted-tbn0.gstatic.com/images?q=tbn:ANd9GcQDWI5DaeH_-xMZ0Mh0wbSfV49k8r73sWGrAGRX5AUlOj7-8gNLclvxtYGa2Kk&amp;s\"/>]"
      ]
     },
     "execution_count": 10,
     "metadata": {},
     "output_type": "execute_result"
    }
   ],
   "source": [
    "images_tags"
   ]
  },
  {
   "cell_type": "code",
   "execution_count": 8,
   "id": "ed3254c4",
   "metadata": {},
   "outputs": [],
   "source": [
    "del images_tags[0]"
   ]
  },
  {
   "cell_type": "code",
   "execution_count": 11,
   "id": "0a731b1e",
   "metadata": {},
   "outputs": [],
   "source": [
    "img_data_mongo = []\n",
    "for i in images_tags:\n",
    "    image_url = i['src']\n",
    "    image_data = requests.get(image_url).content\n",
    "    mydict = {\"index\":image_url , \"image\" : image_data}\n",
    "    img_data_mongo.append(mydict)\n",
    "    with open(os.path.join(save_dir,f\"{query}_{images_tags.index(i)}.jpg\"),\"wb\") as f :\n",
    "              f.write(image_data)\n"
   ]
  },
  {
   "cell_type": "code",
   "execution_count": null,
   "id": "5cc0f254",
   "metadata": {},
   "outputs": [],
   "source": []
  },
  {
   "cell_type": "code",
   "execution_count": null,
   "id": "ac173458",
   "metadata": {},
   "outputs": [],
   "source": []
  },
  {
   "cell_type": "code",
   "execution_count": null,
   "id": "e71b9ad4",
   "metadata": {},
   "outputs": [],
   "source": []
  }
 ],
 "metadata": {
  "kernelspec": {
   "display_name": "Python 3 (ipykernel)",
   "language": "python",
   "name": "python3"
  },
  "language_info": {
   "codemirror_mode": {
    "name": "ipython",
    "version": 3
   },
   "file_extension": ".py",
   "mimetype": "text/x-python",
   "name": "python",
   "nbconvert_exporter": "python",
   "pygments_lexer": "ipython3",
   "version": "3.9.13"
  }
 },
 "nbformat": 4,
 "nbformat_minor": 5
}
